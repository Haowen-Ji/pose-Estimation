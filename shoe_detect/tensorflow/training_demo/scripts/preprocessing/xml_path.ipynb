{
 "cells": [
  {
   "cell_type": "code",
   "execution_count": 20,
   "id": "897f6bc7-caa2-42ac-8921-b0bfeb8f4545",
   "metadata": {},
   "outputs": [
    {
     "name": "stdout",
     "output_type": "stream",
     "text": [
      "109_flip.xml\n",
      "已经修改\n",
      "104_flip.xml\n",
      "已经修改\n",
      "110_flip.xml\n",
      "已经修改\n",
      "117_flip.xml\n",
      "已经修改\n",
      "1062_flip.xml\n",
      "已经修改\n",
      "1067_flip.xml\n",
      "已经修改\n",
      "1069_flip.xml\n",
      "已经修改\n",
      "1072_flip.xml\n",
      "已经修改\n",
      "1113_flip.xml\n",
      "已经修改\n",
      "1115_flip.xml\n",
      "已经修改\n",
      "1124_flip.xml\n",
      "已经修改\n",
      "1130_flip.xml\n",
      "已经修改\n",
      "1153_flip.xml\n",
      "已经修改\n",
      "1155_flip.xml\n",
      "已经修改\n",
      "1253_flip.xml\n",
      "已经修改\n",
      "1259_flip.xml\n",
      "已经修改\n",
      "1261_flip.xml\n",
      "已经修改\n",
      "1265_flip.xml\n",
      "已经修改\n",
      "1269_flip.xml\n",
      "已经修改\n",
      "1407_flip.xml\n",
      "已经修改\n",
      "1411_flip.xml\n",
      "已经修改\n",
      "1415_flip.xml\n",
      "已经修改\n",
      "1419_flip.xml\n",
      "已经修改\n",
      "1423_flip.xml\n",
      "已经修改\n",
      "1426_flip.xml\n",
      "已经修改\n",
      "1432_flip.xml\n",
      "已经修改\n",
      "1438_flip.xml\n",
      "已经修改\n",
      "1447_flip.xml\n",
      "已经修改\n",
      "1444_flip.xml\n",
      "已经修改\n",
      "1434_flip.xml\n",
      "已经修改\n",
      "1452_flip.xml\n",
      "已经修改\n",
      "1456_flip.xml\n",
      "已经修改\n",
      "1460_flip.xml\n",
      "已经修改\n",
      "1478_flip.xml\n",
      "已经修改\n",
      "1483_flip.xml\n",
      "已经修改\n",
      "0_flip.xml\n",
      "已经修改\n"
     ]
    },
    {
     "ename": "IsADirectoryError",
     "evalue": "[Errno 21] Is a directory: '/home/jovyan/work/pose-monitor/shoe_detect/tensorflow/workspace/training_demo/images/.ipynb_checkpoints'",
     "output_type": "error",
     "traceback": [
      "\u001b[0;31m---------------------------------------------------------------------------\u001b[0m",
      "\u001b[0;31mIsADirectoryError\u001b[0m                         Traceback (most recent call last)",
      "Cell \u001b[0;32mIn[20], line 20\u001b[0m\n\u001b[1;32m     17\u001b[0m newStr \u001b[38;5;241m=\u001b[39m os\u001b[38;5;241m.\u001b[39mpath\u001b[38;5;241m.\u001b[39mjoin(path, xmlFile)\n\u001b[1;32m     18\u001b[0m \u001b[38;5;66;03m#最核心的部分,路径拼接,输入的是具体路径\u001b[39;00m\n\u001b[1;32m     19\u001b[0m \u001b[38;5;66;03m#得到.xml文件的根（也就是annotation）\u001b[39;00m\n\u001b[0;32m---> 20\u001b[0m dom \u001b[38;5;241m=\u001b[39m \u001b[43mparse\u001b[49m\u001b[43m(\u001b[49m\u001b[43mnewStr\u001b[49m\u001b[43m)\u001b[49m\n\u001b[1;32m     21\u001b[0m root \u001b[38;5;241m=\u001b[39m dom\u001b[38;5;241m.\u001b[39mgetroot()\n\u001b[1;32m     22\u001b[0m \u001b[38;5;66;03m#获得后缀.前的文件名(分离文件名和扩展名)\u001b[39;00m\n",
      "File \u001b[0;32m/opt/conda/lib/python3.9/xml/etree/ElementTree.py:1229\u001b[0m, in \u001b[0;36mparse\u001b[0;34m(source, parser)\u001b[0m\n\u001b[1;32m   1220\u001b[0m \u001b[38;5;124;03m\"\"\"Parse XML document into element tree.\u001b[39;00m\n\u001b[1;32m   1221\u001b[0m \n\u001b[1;32m   1222\u001b[0m \u001b[38;5;124;03m*source* is a filename or file object containing XML data,\u001b[39;00m\n\u001b[0;32m   (...)\u001b[0m\n\u001b[1;32m   1226\u001b[0m \n\u001b[1;32m   1227\u001b[0m \u001b[38;5;124;03m\"\"\"\u001b[39;00m\n\u001b[1;32m   1228\u001b[0m tree \u001b[38;5;241m=\u001b[39m ElementTree()\n\u001b[0;32m-> 1229\u001b[0m \u001b[43mtree\u001b[49m\u001b[38;5;241;43m.\u001b[39;49m\u001b[43mparse\u001b[49m\u001b[43m(\u001b[49m\u001b[43msource\u001b[49m\u001b[43m,\u001b[49m\u001b[43m \u001b[49m\u001b[43mparser\u001b[49m\u001b[43m)\u001b[49m\n\u001b[1;32m   1230\u001b[0m \u001b[38;5;28;01mreturn\u001b[39;00m tree\n",
      "File \u001b[0;32m/opt/conda/lib/python3.9/xml/etree/ElementTree.py:569\u001b[0m, in \u001b[0;36mElementTree.parse\u001b[0;34m(self, source, parser)\u001b[0m\n\u001b[1;32m    567\u001b[0m close_source \u001b[38;5;241m=\u001b[39m \u001b[38;5;28;01mFalse\u001b[39;00m\n\u001b[1;32m    568\u001b[0m \u001b[38;5;28;01mif\u001b[39;00m \u001b[38;5;129;01mnot\u001b[39;00m \u001b[38;5;28mhasattr\u001b[39m(source, \u001b[38;5;124m\"\u001b[39m\u001b[38;5;124mread\u001b[39m\u001b[38;5;124m\"\u001b[39m):\n\u001b[0;32m--> 569\u001b[0m     source \u001b[38;5;241m=\u001b[39m \u001b[38;5;28;43mopen\u001b[39;49m\u001b[43m(\u001b[49m\u001b[43msource\u001b[49m\u001b[43m,\u001b[49m\u001b[43m \u001b[49m\u001b[38;5;124;43m\"\u001b[39;49m\u001b[38;5;124;43mrb\u001b[39;49m\u001b[38;5;124;43m\"\u001b[39;49m\u001b[43m)\u001b[49m\n\u001b[1;32m    570\u001b[0m     close_source \u001b[38;5;241m=\u001b[39m \u001b[38;5;28;01mTrue\u001b[39;00m\n\u001b[1;32m    571\u001b[0m \u001b[38;5;28;01mtry\u001b[39;00m:\n",
      "\u001b[0;31mIsADirectoryError\u001b[0m: [Errno 21] Is a directory: '/home/jovyan/work/pose-monitor/shoe_detect/tensorflow/workspace/training_demo/images/.ipynb_checkpoints'"
     ]
    }
   ],
   "source": [
    "import os\n",
    "import os.path\n",
    "from xml.etree.ElementTree import parse, Element\n",
    "\n",
    "# .xml文件地址\n",
    "path = \"/home/jovyan/work/pose-monitor/shoe_detect/tensorflow/workspace/training_demo/images\"\n",
    "# 得到文件夹下所有文件名称\n",
    "files = os.listdir(path)  \n",
    "s = []\n",
    "# 遍历文件夹\n",
    "for xmlFile in files:\n",
    "    # 判断是否是文件夹,不是文件夹才打开\n",
    "    if not os.path.isdir(xmlFile):\n",
    "        print(xmlFile)\n",
    "        pass\n",
    "    path = \"/home/jovyan/work/pose-monitor/shoe_detect/tensorflow/workspace/training_demo/images\"\n",
    "    newStr = os.path.join(path, xmlFile)\n",
    "    #最核心的部分,路径拼接,输入的是具体路径\n",
    "    #得到.xml文件的根（也就是annotation）\n",
    "    dom = parse(newStr)\n",
    "    root = dom.getroot()\n",
    "    #获得后缀.前的文件名(分离文件名和扩展名)\n",
    "    part = os.path.splitext(xmlFile)[0]\n",
    "    # 文件名+后缀\n",
    "    part1 = part + '.jpg'\n",
    "    # path里的新属性值：\n",
    "    newStr1 = '/home/jovyan/work/pose-monitor/shoe_detect/tensorflow/workspace/training_demo/unannoted_data/' + part1\n",
    "    #通过句柄找到path的子节点，然后给子节点设置内容\n",
    "    root.find('path').text = newStr1  \n",
    "    # #打印输出\n",
    "    print('已经修改')\n",
    "    dom.write(newStr, xml_declaration=True)\n",
    "    pass"
   ]
  },
  {
   "cell_type": "code",
   "execution_count": 16,
   "id": "f87eee00-ebfb-492d-8dc7-83860b532eca",
   "metadata": {},
   "outputs": [
    {
     "data": {
      "text/plain": [
       "'/home/jovyan/work/pose-monitor/shoe_detect/tensorflow/scripts/preprocessing'"
      ]
     },
     "execution_count": 16,
     "metadata": {},
     "output_type": "execute_result"
    }
   ],
   "source": []
  },
  {
   "cell_type": "code",
   "execution_count": null,
   "id": "7ba3f0ab-5b0e-4d4c-8c5c-ba1272aad678",
   "metadata": {},
   "outputs": [],
   "source": []
  }
 ],
 "metadata": {
  "kernelspec": {
   "display_name": "Python 3 (ipykernel)",
   "language": "python",
   "name": "python3"
  },
  "language_info": {
   "codemirror_mode": {
    "name": "ipython",
    "version": 3
   },
   "file_extension": ".py",
   "mimetype": "text/x-python",
   "name": "python",
   "nbconvert_exporter": "python",
   "pygments_lexer": "ipython3",
   "version": "3.9.7"
  }
 },
 "nbformat": 4,
 "nbformat_minor": 5
}
